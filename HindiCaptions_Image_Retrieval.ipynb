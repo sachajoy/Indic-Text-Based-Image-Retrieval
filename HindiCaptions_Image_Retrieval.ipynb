{
  "nbformat": 4,
  "nbformat_minor": 0,
  "metadata": {
    "colab": {
      "provenance": [],
      "gpuType": "V100"
    },
    "kernelspec": {
      "name": "python3",
      "display_name": "Python 3"
    },
    "language_info": {
      "name": "python"
    },
    "accelerator": "GPU"
  },
  "cells": [
    {
      "cell_type": "markdown",
      "source": [
        "Image retrieval based on the crowd-sourced Hindi captions.\n",
        "\n",
        "This model only supports Hindi captions."
      ],
      "metadata": {
        "id": "rEfxL3rho0vU"
      }
    },
    {
      "cell_type": "markdown",
      "source": [
        "# **Loading the dataset**"
      ],
      "metadata": {
        "id": "c0YlaS7cWCFH"
      }
    },
    {
      "cell_type": "code",
      "source": [
        "import os\n",
        "from google.colab import drive\n",
        "from PIL import Image\n",
        "from numpy import asarray\n",
        "import random\n",
        "import numpy as np"
      ],
      "metadata": {
        "id": "dP5rfs6bMRY0"
      },
      "execution_count": null,
      "outputs": []
    },
    {
      "cell_type": "code",
      "source": [
        "!pip install tensorflow-text"
      ],
      "metadata": {
        "colab": {
          "base_uri": "https://localhost:8080/"
        },
        "id": "tKwvFMZXzYcm",
        "outputId": "b93660b2-3e37-4966-8f66-f5a20b4049f4"
      },
      "execution_count": null,
      "outputs": [
        {
          "output_type": "stream",
          "name": "stdout",
          "text": [
            "Collecting tensorflow-text\n",
            "  Downloading tensorflow_text-2.15.0-cp310-cp310-manylinux_2_17_x86_64.manylinux2014_x86_64.whl (5.2 MB)\n",
            "\u001b[2K     \u001b[90m━━━━━━━━━━━━━━━━━━━━━━━━━━━━━━━━━━━━━━━━\u001b[0m \u001b[32m5.2/5.2 MB\u001b[0m \u001b[31m23.1 MB/s\u001b[0m eta \u001b[36m0:00:00\u001b[0m\n",
            "\u001b[?25hRequirement already satisfied: tensorflow-hub>=0.13.0 in /usr/local/lib/python3.10/dist-packages (from tensorflow-text) (0.15.0)\n",
            "Collecting tensorflow<2.16,>=2.15.0 (from tensorflow-text)\n",
            "  Downloading tensorflow-2.15.0-cp310-cp310-manylinux_2_17_x86_64.manylinux2014_x86_64.whl (475.2 MB)\n",
            "\u001b[2K     \u001b[90m━━━━━━━━━━━━━━━━━━━━━━━━━━━━━━━━━━━━━━━━\u001b[0m \u001b[32m475.2/475.2 MB\u001b[0m \u001b[31m3.7 MB/s\u001b[0m eta \u001b[36m0:00:00\u001b[0m\n",
            "\u001b[?25hRequirement already satisfied: absl-py>=1.0.0 in /usr/local/lib/python3.10/dist-packages (from tensorflow<2.16,>=2.15.0->tensorflow-text) (1.4.0)\n",
            "Requirement already satisfied: astunparse>=1.6.0 in /usr/local/lib/python3.10/dist-packages (from tensorflow<2.16,>=2.15.0->tensorflow-text) (1.6.3)\n",
            "Requirement already satisfied: flatbuffers>=23.5.26 in /usr/local/lib/python3.10/dist-packages (from tensorflow<2.16,>=2.15.0->tensorflow-text) (23.5.26)\n",
            "Requirement already satisfied: gast!=0.5.0,!=0.5.1,!=0.5.2,>=0.2.1 in /usr/local/lib/python3.10/dist-packages (from tensorflow<2.16,>=2.15.0->tensorflow-text) (0.5.4)\n",
            "Requirement already satisfied: google-pasta>=0.1.1 in /usr/local/lib/python3.10/dist-packages (from tensorflow<2.16,>=2.15.0->tensorflow-text) (0.2.0)\n",
            "Requirement already satisfied: h5py>=2.9.0 in /usr/local/lib/python3.10/dist-packages (from tensorflow<2.16,>=2.15.0->tensorflow-text) (3.9.0)\n",
            "Requirement already satisfied: libclang>=13.0.0 in /usr/local/lib/python3.10/dist-packages (from tensorflow<2.16,>=2.15.0->tensorflow-text) (16.0.6)\n",
            "Requirement already satisfied: ml-dtypes~=0.2.0 in /usr/local/lib/python3.10/dist-packages (from tensorflow<2.16,>=2.15.0->tensorflow-text) (0.2.0)\n",
            "Requirement already satisfied: numpy<2.0.0,>=1.23.5 in /usr/local/lib/python3.10/dist-packages (from tensorflow<2.16,>=2.15.0->tensorflow-text) (1.23.5)\n",
            "Requirement already satisfied: opt-einsum>=2.3.2 in /usr/local/lib/python3.10/dist-packages (from tensorflow<2.16,>=2.15.0->tensorflow-text) (3.3.0)\n",
            "Requirement already satisfied: packaging in /usr/local/lib/python3.10/dist-packages (from tensorflow<2.16,>=2.15.0->tensorflow-text) (23.2)\n",
            "Requirement already satisfied: protobuf!=4.21.0,!=4.21.1,!=4.21.2,!=4.21.3,!=4.21.4,!=4.21.5,<5.0.0dev,>=3.20.3 in /usr/local/lib/python3.10/dist-packages (from tensorflow<2.16,>=2.15.0->tensorflow-text) (3.20.3)\n",
            "Requirement already satisfied: setuptools in /usr/local/lib/python3.10/dist-packages (from tensorflow<2.16,>=2.15.0->tensorflow-text) (67.7.2)\n",
            "Requirement already satisfied: six>=1.12.0 in /usr/local/lib/python3.10/dist-packages (from tensorflow<2.16,>=2.15.0->tensorflow-text) (1.16.0)\n",
            "Requirement already satisfied: termcolor>=1.1.0 in /usr/local/lib/python3.10/dist-packages (from tensorflow<2.16,>=2.15.0->tensorflow-text) (2.3.0)\n",
            "Requirement already satisfied: typing-extensions>=3.6.6 in /usr/local/lib/python3.10/dist-packages (from tensorflow<2.16,>=2.15.0->tensorflow-text) (4.5.0)\n",
            "Requirement already satisfied: wrapt<1.15,>=1.11.0 in /usr/local/lib/python3.10/dist-packages (from tensorflow<2.16,>=2.15.0->tensorflow-text) (1.14.1)\n",
            "Requirement already satisfied: tensorflow-io-gcs-filesystem>=0.23.1 in /usr/local/lib/python3.10/dist-packages (from tensorflow<2.16,>=2.15.0->tensorflow-text) (0.34.0)\n",
            "Requirement already satisfied: grpcio<2.0,>=1.24.3 in /usr/local/lib/python3.10/dist-packages (from tensorflow<2.16,>=2.15.0->tensorflow-text) (1.59.2)\n",
            "Collecting tensorboard<2.16,>=2.15 (from tensorflow<2.16,>=2.15.0->tensorflow-text)\n",
            "  Downloading tensorboard-2.15.1-py3-none-any.whl (5.5 MB)\n",
            "\u001b[2K     \u001b[90m━━━━━━━━━━━━━━━━━━━━━━━━━━━━━━━━━━━━━━━━\u001b[0m \u001b[32m5.5/5.5 MB\u001b[0m \u001b[31m99.5 MB/s\u001b[0m eta \u001b[36m0:00:00\u001b[0m\n",
            "\u001b[?25hCollecting tensorflow-estimator<2.16,>=2.15.0 (from tensorflow<2.16,>=2.15.0->tensorflow-text)\n",
            "  Downloading tensorflow_estimator-2.15.0-py2.py3-none-any.whl (441 kB)\n",
            "\u001b[2K     \u001b[90m━━━━━━━━━━━━━━━━━━━━━━━━━━━━━━━━━━━━━━━━\u001b[0m \u001b[32m442.0/442.0 kB\u001b[0m \u001b[31m47.0 MB/s\u001b[0m eta \u001b[36m0:00:00\u001b[0m\n",
            "\u001b[?25hCollecting keras<2.16,>=2.15.0 (from tensorflow<2.16,>=2.15.0->tensorflow-text)\n",
            "  Downloading keras-2.15.0-py3-none-any.whl (1.7 MB)\n",
            "\u001b[2K     \u001b[90m━━━━━━━━━━━━━━━━━━━━━━━━━━━━━━━━━━━━━━━━\u001b[0m \u001b[32m1.7/1.7 MB\u001b[0m \u001b[31m79.6 MB/s\u001b[0m eta \u001b[36m0:00:00\u001b[0m\n",
            "\u001b[?25hRequirement already satisfied: wheel<1.0,>=0.23.0 in /usr/local/lib/python3.10/dist-packages (from astunparse>=1.6.0->tensorflow<2.16,>=2.15.0->tensorflow-text) (0.41.3)\n",
            "Requirement already satisfied: google-auth<3,>=1.6.3 in /usr/local/lib/python3.10/dist-packages (from tensorboard<2.16,>=2.15->tensorflow<2.16,>=2.15.0->tensorflow-text) (2.17.3)\n",
            "Requirement already satisfied: google-auth-oauthlib<2,>=0.5 in /usr/local/lib/python3.10/dist-packages (from tensorboard<2.16,>=2.15->tensorflow<2.16,>=2.15.0->tensorflow-text) (1.0.0)\n",
            "Requirement already satisfied: markdown>=2.6.8 in /usr/local/lib/python3.10/dist-packages (from tensorboard<2.16,>=2.15->tensorflow<2.16,>=2.15.0->tensorflow-text) (3.5.1)\n",
            "Requirement already satisfied: requests<3,>=2.21.0 in /usr/local/lib/python3.10/dist-packages (from tensorboard<2.16,>=2.15->tensorflow<2.16,>=2.15.0->tensorflow-text) (2.31.0)\n",
            "Requirement already satisfied: tensorboard-data-server<0.8.0,>=0.7.0 in /usr/local/lib/python3.10/dist-packages (from tensorboard<2.16,>=2.15->tensorflow<2.16,>=2.15.0->tensorflow-text) (0.7.2)\n",
            "Requirement already satisfied: werkzeug>=1.0.1 in /usr/local/lib/python3.10/dist-packages (from tensorboard<2.16,>=2.15->tensorflow<2.16,>=2.15.0->tensorflow-text) (3.0.1)\n",
            "Requirement already satisfied: cachetools<6.0,>=2.0.0 in /usr/local/lib/python3.10/dist-packages (from google-auth<3,>=1.6.3->tensorboard<2.16,>=2.15->tensorflow<2.16,>=2.15.0->tensorflow-text) (5.3.2)\n",
            "Requirement already satisfied: pyasn1-modules>=0.2.1 in /usr/local/lib/python3.10/dist-packages (from google-auth<3,>=1.6.3->tensorboard<2.16,>=2.15->tensorflow<2.16,>=2.15.0->tensorflow-text) (0.3.0)\n",
            "Requirement already satisfied: rsa<5,>=3.1.4 in /usr/local/lib/python3.10/dist-packages (from google-auth<3,>=1.6.3->tensorboard<2.16,>=2.15->tensorflow<2.16,>=2.15.0->tensorflow-text) (4.9)\n",
            "Requirement already satisfied: requests-oauthlib>=0.7.0 in /usr/local/lib/python3.10/dist-packages (from google-auth-oauthlib<2,>=0.5->tensorboard<2.16,>=2.15->tensorflow<2.16,>=2.15.0->tensorflow-text) (1.3.1)\n",
            "Requirement already satisfied: charset-normalizer<4,>=2 in /usr/local/lib/python3.10/dist-packages (from requests<3,>=2.21.0->tensorboard<2.16,>=2.15->tensorflow<2.16,>=2.15.0->tensorflow-text) (3.3.2)\n",
            "Requirement already satisfied: idna<4,>=2.5 in /usr/local/lib/python3.10/dist-packages (from requests<3,>=2.21.0->tensorboard<2.16,>=2.15->tensorflow<2.16,>=2.15.0->tensorflow-text) (3.4)\n",
            "Requirement already satisfied: urllib3<3,>=1.21.1 in /usr/local/lib/python3.10/dist-packages (from requests<3,>=2.21.0->tensorboard<2.16,>=2.15->tensorflow<2.16,>=2.15.0->tensorflow-text) (2.0.7)\n",
            "Requirement already satisfied: certifi>=2017.4.17 in /usr/local/lib/python3.10/dist-packages (from requests<3,>=2.21.0->tensorboard<2.16,>=2.15->tensorflow<2.16,>=2.15.0->tensorflow-text) (2023.7.22)\n",
            "Requirement already satisfied: MarkupSafe>=2.1.1 in /usr/local/lib/python3.10/dist-packages (from werkzeug>=1.0.1->tensorboard<2.16,>=2.15->tensorflow<2.16,>=2.15.0->tensorflow-text) (2.1.3)\n",
            "Requirement already satisfied: pyasn1<0.6.0,>=0.4.6 in /usr/local/lib/python3.10/dist-packages (from pyasn1-modules>=0.2.1->google-auth<3,>=1.6.3->tensorboard<2.16,>=2.15->tensorflow<2.16,>=2.15.0->tensorflow-text) (0.5.0)\n",
            "Requirement already satisfied: oauthlib>=3.0.0 in /usr/local/lib/python3.10/dist-packages (from requests-oauthlib>=0.7.0->google-auth-oauthlib<2,>=0.5->tensorboard<2.16,>=2.15->tensorflow<2.16,>=2.15.0->tensorflow-text) (3.2.2)\n",
            "Installing collected packages: tensorflow-estimator, keras, tensorboard, tensorflow, tensorflow-text\n",
            "  Attempting uninstall: tensorflow-estimator\n",
            "    Found existing installation: tensorflow-estimator 2.14.0\n",
            "    Uninstalling tensorflow-estimator-2.14.0:\n",
            "      Successfully uninstalled tensorflow-estimator-2.14.0\n",
            "  Attempting uninstall: keras\n",
            "    Found existing installation: keras 2.14.0\n",
            "    Uninstalling keras-2.14.0:\n",
            "      Successfully uninstalled keras-2.14.0\n",
            "  Attempting uninstall: tensorboard\n",
            "    Found existing installation: tensorboard 2.14.1\n",
            "    Uninstalling tensorboard-2.14.1:\n",
            "      Successfully uninstalled tensorboard-2.14.1\n",
            "  Attempting uninstall: tensorflow\n",
            "    Found existing installation: tensorflow 2.14.0\n",
            "    Uninstalling tensorflow-2.14.0:\n",
            "      Successfully uninstalled tensorflow-2.14.0\n",
            "Successfully installed keras-2.15.0 tensorboard-2.15.1 tensorflow-2.15.0 tensorflow-estimator-2.15.0 tensorflow-text-2.15.0\n"
          ]
        }
      ]
    },
    {
      "cell_type": "code",
      "source": [
        "import tensorflow as tf\n",
        "from tensorflow import keras\n",
        "from keras import layers\n",
        "from keras import applications\n",
        "import tensorflow_hub as hub\n",
        "import tensorflow_text as text"
      ],
      "metadata": {
        "id": "UlIWRlPdzZsJ"
      },
      "execution_count": null,
      "outputs": []
    },
    {
      "cell_type": "code",
      "source": [
        "seed = 21\n",
        "np.random.seed(seed)\n",
        "tf.random.set_seed(seed)"
      ],
      "metadata": {
        "id": "kfH1xSZxOGN2"
      },
      "execution_count": null,
      "outputs": []
    },
    {
      "cell_type": "code",
      "execution_count": null,
      "metadata": {
        "colab": {
          "base_uri": "https://localhost:8080/"
        },
        "id": "-lgpSYH5E3rl",
        "outputId": "4bf221b9-dcec-446e-9ca6-2c287a12685c"
      },
      "outputs": [
        {
          "output_type": "stream",
          "name": "stdout",
          "text": [
            "Mounted at /content/drive\n"
          ]
        }
      ],
      "source": [
        "drive.mount('/content/drive')"
      ]
    },
    {
      "cell_type": "code",
      "source": [
        "caption_path = '/content/drive/MyDrive/CSCI567/Flickr8k_text/Flickr-Hindi.txt'\n",
        "f = open(caption_path)\n",
        "lines = f.readlines()\n",
        "captions = [] # stores entries in format - label(image name), caption\n",
        "for line in lines:\n",
        "  parts = line.split(\"\t\")\n",
        "  captions.append([parts[0].split(\"#\")[0], parts[1]])\n",
        "\n",
        "captions = np.array(captions)"
      ],
      "metadata": {
        "id": "-RmET_DVukRy"
      },
      "execution_count": null,
      "outputs": []
    },
    {
      "cell_type": "code",
      "source": [
        "def column(arr, i):\n",
        "    return [row[i] for row in arr]"
      ],
      "metadata": {
        "id": "bklFtntuH3g3"
      },
      "execution_count": null,
      "outputs": []
    },
    {
      "cell_type": "code",
      "source": [
        "# creating a list of the 500 unique images that the captions txt file has\n",
        "print(len(column(captions,0)))\n",
        "unique_images = set(column(captions,0))\n",
        "print(len(unique_images))"
      ],
      "metadata": {
        "colab": {
          "base_uri": "https://localhost:8080/"
        },
        "id": "mqsQzJUcHEwy",
        "outputId": "faf1998d-eed3-4f69-bd0d-9d7b64ef1971"
      },
      "execution_count": null,
      "outputs": [
        {
          "output_type": "stream",
          "name": "stdout",
          "text": [
            "2472\n",
            "500\n"
          ]
        }
      ]
    },
    {
      "cell_type": "code",
      "source": [
        "image_directory = '/content/drive/MyDrive/CSCI567/Flickr8k_Dataset/Flicker8k_Dataset'\n",
        "image_paths_temp = [os.path.join(image_directory, filename) for filename in unique_images]"
      ],
      "metadata": {
        "id": "T99OFb2Jsh90"
      },
      "execution_count": null,
      "outputs": []
    },
    {
      "cell_type": "code",
      "source": [
        "print(len(image_paths_temp))"
      ],
      "metadata": {
        "colab": {
          "base_uri": "https://localhost:8080/"
        },
        "id": "oc_Q2WiJJj0Z",
        "outputId": "c19853e7-b659-4bb6-cd07-19b76fb588ff"
      },
      "execution_count": null,
      "outputs": [
        {
          "output_type": "stream",
          "name": "stdout",
          "text": [
            "500\n"
          ]
        }
      ]
    },
    {
      "cell_type": "code",
      "source": [
        "# image paths which correspond to actual images in the dataset\n",
        "image_paths = []\n",
        "for path in image_paths_temp:\n",
        "  if os.path.isfile(path):\n",
        "    image_paths.append(path)"
      ],
      "metadata": {
        "id": "F4-FMFxkMLEt"
      },
      "execution_count": null,
      "outputs": []
    },
    {
      "cell_type": "code",
      "source": [
        "print(len(image_paths))"
      ],
      "metadata": {
        "colab": {
          "base_uri": "https://localhost:8080/"
        },
        "id": "eUKCuejlM8XB",
        "outputId": "4424f4b3-4aec-4586-85bf-cc3de8b12ef7"
      },
      "execution_count": null,
      "outputs": [
        {
          "output_type": "stream",
          "name": "stdout",
          "text": [
            "229\n"
          ]
        }
      ]
    },
    {
      "cell_type": "code",
      "source": [
        "images = []\n",
        "\n",
        "for path in image_paths:\n",
        "  image = Image.open(path).resize((64,64))\n",
        "  data = asarray(image) # might need to reshape\n",
        "  image_label = path.split(image_directory+'/')[1]\n",
        "  images.append([image_label,data])\n",
        "  #print(image_label, data)"
      ],
      "metadata": {
        "id": "Idepv2XxK_Do"
      },
      "execution_count": null,
      "outputs": []
    },
    {
      "cell_type": "code",
      "source": [
        "# TEST-TRAIN SPLIT\n",
        "#print(captions)\n",
        "np.random.shuffle(captions)\n",
        "#print(captions)\n",
        "split = int(len(captions)*0.8)\n",
        "training_captions, test_captions = captions[:split,:], captions[split:,:]\n",
        "print(len(training_captions), len(test_captions))"
      ],
      "metadata": {
        "colab": {
          "base_uri": "https://localhost:8080/"
        },
        "id": "FCtqkGePE1tz",
        "outputId": "810d53fe-584a-4025-822e-ae0e956c3c66"
      },
      "execution_count": null,
      "outputs": [
        {
          "output_type": "stream",
          "name": "stdout",
          "text": [
            "1977 495\n"
          ]
        }
      ]
    },
    {
      "cell_type": "markdown",
      "source": [
        "**Creating triplets**"
      ],
      "metadata": {
        "id": "U4HeGQKQeZbZ"
      }
    },
    {
      "cell_type": "code",
      "source": [
        "def triplet_generator(images, captions, num_triplets_per_caption):\n",
        "    imgs = []\n",
        "    positives = []\n",
        "    negatives = []\n",
        "    # loop through the captions, each caption and it's corresponding image will be stored with one random negative caption, creating a triplet\n",
        "    for caption in captions:\n",
        "        positive = caption[1]\n",
        "        label = caption[0]\n",
        "        image = None\n",
        "\n",
        "        for img in images:\n",
        "            if img[0] == label:\n",
        "                image = np.array(img[1])\n",
        "\n",
        "        if image is None:\n",
        "            continue\n",
        "\n",
        "        for i in range(num_triplets_per_caption):\n",
        "          while True:\n",
        "            chosen_caption = random.choice(captions)\n",
        "            l = chosen_caption[0]\n",
        "            if l != label:\n",
        "                negative = chosen_caption[1]\n",
        "                break\n",
        "          # triplets.append([image, positive, negative])\n",
        "          imgs.append(image)\n",
        "          positives.append(positive)\n",
        "          negatives.append(negative)\n",
        "\n",
        "    print(f\"Dataset size: {len(imgs)}\")\n",
        "    dummy_labels = np.array([0] * len(imgs))\n",
        "    return np.array(imgs, dtype='float32'), np.array(positives), np.array(negatives), dummy_labels\n"
      ],
      "metadata": {
        "id": "wH7Bj79peaBF"
      },
      "execution_count": null,
      "outputs": []
    },
    {
      "cell_type": "code",
      "source": [
        "imgs, positives, negatives, dummy_labels = triplet_generator(images, training_captions, 3)"
      ],
      "metadata": {
        "colab": {
          "base_uri": "https://localhost:8080/"
        },
        "id": "Rv4GjhSJqS53",
        "outputId": "0fe388d9-82a4-4ccf-aeb9-add7f02a64ff"
      },
      "execution_count": null,
      "outputs": [
        {
          "output_type": "stream",
          "name": "stdout",
          "text": [
            "Dataset size: 2718\n"
          ]
        }
      ]
    },
    {
      "cell_type": "code",
      "source": [
        "print(np.shape(positives))"
      ],
      "metadata": {
        "colab": {
          "base_uri": "https://localhost:8080/"
        },
        "id": "o6JHtYw9qefH",
        "outputId": "a0c94521-c9d3-4615-aa2b-1916f824e6be"
      },
      "execution_count": null,
      "outputs": [
        {
          "output_type": "stream",
          "name": "stdout",
          "text": [
            "(2718,)\n"
          ]
        }
      ]
    },
    {
      "cell_type": "code",
      "source": [
        "print(positives[0])"
      ],
      "metadata": {
        "colab": {
          "base_uri": "https://localhost:8080/"
        },
        "id": "T7G8tkqCrKEK",
        "outputId": "5e1670d6-818a-478a-ec12-96f90fe19264"
      },
      "execution_count": null,
      "outputs": [
        {
          "output_type": "stream",
          "name": "stdout",
          "text": [
            "कुत्ता जंपिंग खेल चल रहा है. \n",
            "\n"
          ]
        }
      ]
    },
    {
      "cell_type": "markdown",
      "source": [
        "# **Model**"
      ],
      "metadata": {
        "id": "bDVHcTuPW1JG"
      }
    },
    {
      "cell_type": "code",
      "source": [
        "# TRIPLET LOSS- referred to https://github.com/prabhnoor0212/Kaggle-Recognizing-faces-in-the-wild/blob/master/kinship_triplet_loss.ipynb\n",
        "\n",
        "def triplet_loss(y_pred, alpha = 0.5):\n",
        "    # print(y_true.shape, y_pred.shape)\n",
        "    anchor, positive, negative = y_pred[0], y_pred[1], y_pred[2]\n",
        "    pos_dist = tf.reduce_sum(tf.square(tf.subtract(anchor, positive)), axis=-1)\n",
        "    neg_dist = tf.reduce_sum(tf.square(tf.subtract(anchor, negative)), axis=-1)\n",
        "    basic_loss = tf.add(tf.subtract(pos_dist, neg_dist), alpha)\n",
        "    loss = tf.reduce_mean(tf.maximum(basic_loss, 0.0))\n",
        "\n",
        "    return loss"
      ],
      "metadata": {
        "id": "7OPP5wBmcCFQ"
      },
      "execution_count": null,
      "outputs": []
    },
    {
      "cell_type": "code",
      "source": [
        "# Image base\n",
        "img_base = applications.ResNet50(weights = 'imagenet', include_top=False, input_shape= (64,64,3), pooling='avg')\n",
        "\n",
        "# Text base\n",
        "\n",
        "tfhub_handle_encoder = \"https://www.kaggle.com/models/google/muril/frameworks/TensorFlow2/variations/muril/versions/1\"\n",
        "tfhub_handle_preprocess = \"https://kaggle.com/models/google/muril/frameworks/TensorFlow2/variations/preprocess/versions/1\"\n",
        "\n",
        "preprocessor = hub.load(tfhub_handle_preprocess)\n",
        "tokenize = hub.KerasLayer(preprocessor.tokenize)\n",
        "seq_length = 8\n",
        "bert_pack_inputs = hub.KerasLayer(\n",
        "    preprocessor.bert_pack_inputs,\n",
        "    arguments=dict(seq_length=seq_length))\n",
        "\n",
        "bert_preprocess_model = layers.Lambda(lambda x: bert_pack_inputs([tokenize(x)]))\n",
        "bert_model = hub.KerasLayer(tfhub_handle_encoder, name=\"text_bert_output\")"
      ],
      "metadata": {
        "id": "14LaDfxXcDhZ",
        "colab": {
          "base_uri": "https://localhost:8080/"
        },
        "outputId": "aad25b08-260e-4e65-819d-642ed930ea24"
      },
      "execution_count": null,
      "outputs": [
        {
          "output_type": "stream",
          "name": "stdout",
          "text": [
            "Downloading data from https://storage.googleapis.com/tensorflow/keras-applications/resnet/resnet50_weights_tf_dim_ordering_tf_kernels_notop.h5\n",
            "94765736/94765736 [==============================] - 3s 0us/step\n"
          ]
        }
      ]
    },
    {
      "cell_type": "code",
      "source": [
        "# MAIN MODEL ARCHITECTURE\n",
        "\n",
        "img_inputs = layers.Input(shape=(64,64,3), dtype=\"float32\", name=\"input_image\")\n",
        "positive_text_inputs = layers.Input(shape=(), dtype=tf.string, name=\"positive_input_captions\")\n",
        "negative_text_inputs = layers.Input(shape=(), dtype=tf.string, name=\"negative_input_captions\")\n",
        "\n",
        "# positive text embedding\n",
        "text_preprocessed_p = bert_preprocess_model(positive_text_inputs)\n",
        "bert_embedded_p = bert_model(text_preprocessed_p)\n",
        "embedded_p = tf.reduce_mean(bert_embedded_p['sequence_output'], axis=1)\n",
        "\n",
        "# negative text embedding\n",
        "text_preprocessed_n = bert_preprocess_model(negative_text_inputs)\n",
        "bert_embedded_n = bert_model(text_preprocessed_n)\n",
        "embedded_n = tf.reduce_mean(bert_embedded_n['sequence_output'], axis=1)\n",
        "\n",
        "# image embedding\n",
        "image_embedding = img_base(img_inputs)\n",
        "\n",
        "n_hidden = 12\n",
        "l2_norm_layer = layers.Lambda(lambda x: tf.math.l2_normalize(x))\n",
        "\n",
        "text_dense_layer = keras.Sequential([\n",
        "  layers.Dense(n_hidden, activation=\"relu\", name=\"text_dense_1\"),\n",
        "  layers.Dense(n_hidden, name=\"text_dense_2\"),\n",
        "  l2_norm_layer,\n",
        "])\n",
        "\n",
        "image_dense_layer = keras.Sequential([\n",
        "  layers.Dense(n_hidden, activation=\"relu\", name=\"image_dense_1\"),\n",
        "  layers.Dense(n_hidden, name=\"image_dense_2\"),\n",
        "  l2_norm_layer,\n",
        "])\n",
        "\n",
        "\n",
        "positive_emb = text_dense_layer(embedded_p)\n",
        "\n",
        "negative_emb = text_dense_layer(embedded_n)\n",
        "\n",
        "image_emb = image_dense_layer(image_embedding)"
      ],
      "metadata": {
        "id": "2N0sJazw3eDx"
      },
      "execution_count": null,
      "outputs": []
    },
    {
      "cell_type": "code",
      "source": [
        "MODEL = keras.Model([img_inputs, positive_text_inputs, negative_text_inputs], [image_emb, positive_emb, negative_emb])\n",
        "\n",
        "# MODEL.compile(optimizer=tf.keras.optimizers.AdamW(learning_rate=0.0001),loss=triplet_loss)\n",
        "\n",
        "print(MODEL.summary())"
      ],
      "metadata": {
        "colab": {
          "base_uri": "https://localhost:8080/"
        },
        "id": "WRn18vO7COby",
        "outputId": "4523d5d8-5370-4532-a3ce-4c96ceb6dc19"
      },
      "execution_count": null,
      "outputs": [
        {
          "output_type": "stream",
          "name": "stdout",
          "text": [
            "Model: \"model\"\n",
            "__________________________________________________________________________________________________\n",
            " Layer (type)                Output Shape                 Param #   Connected to                  \n",
            "==================================================================================================\n",
            " positive_input_captions (I  [(None,)]                    0         []                            \n",
            " nputLayer)                                                                                       \n",
            "                                                                                                  \n",
            " negative_input_captions (I  [(None,)]                    0         []                            \n",
            " nputLayer)                                                                                       \n",
            "                                                                                                  \n",
            " lambda (Lambda)             {'input_word_ids': (None,    0         ['positive_input_captions[0][0\n",
            "                             8),                                    ]',                           \n",
            "                              'input_mask': (None, 8),               'negative_input_captions[0][0\n",
            "                              'input_type_ids': (None,              ]']                           \n",
            "                             8)}                                                                  \n",
            "                                                                                                  \n",
            " input_image (InputLayer)    [(None, 64, 64, 3)]          0         []                            \n",
            "                                                                                                  \n",
            " text_bert_output (KerasLay  {'pooled_output': (None, 7   2375562   ['lambda[0][0]',              \n",
            " er)                         68),                         25         'lambda[0][1]',              \n",
            "                              'encoder_outputs': [(None              'lambda[0][2]',              \n",
            "                             , 8, 768),                              'lambda[1][0]',              \n",
            "                              (None, 8, 768),                        'lambda[1][1]',              \n",
            "                              (None, 8, 768),                        'lambda[1][2]']              \n",
            "                              (None, 8, 768),                                                     \n",
            "                              (None, 8, 768),                                                     \n",
            "                              (None, 8, 768),                                                     \n",
            "                              (None, 8, 768),                                                     \n",
            "                              (None, 8, 768),                                                     \n",
            "                              (None, 8, 768),                                                     \n",
            "                              (None, 8, 768),                                                     \n",
            "                              (None, 8, 768),                                                     \n",
            "                              (None, 8, 768)],                                                    \n",
            "                              'default': (None, 768),                                             \n",
            "                              'sequence_output': (None,                                           \n",
            "                              8, 768)}                                                            \n",
            "                                                                                                  \n",
            " resnet50 (Functional)       (None, 2048)                 2358771   ['input_image[0][0]']         \n",
            "                                                          2                                       \n",
            "                                                                                                  \n",
            " tf.math.reduce_mean (TFOpL  (None, 768)                  0         ['text_bert_output[0][14]']   \n",
            " ambda)                                                                                           \n",
            "                                                                                                  \n",
            " tf.math.reduce_mean_1 (TFO  (None, 768)                  0         ['text_bert_output[1][14]']   \n",
            " pLambda)                                                                                         \n",
            "                                                                                                  \n",
            " sequential_1 (Sequential)   (None, 12)                   24744     ['resnet50[0][0]']            \n",
            "                                                                                                  \n",
            " sequential (Sequential)     (None, 12)                   9384      ['tf.math.reduce_mean[0][0]', \n",
            "                                                                     'tf.math.reduce_mean_1[0][0]'\n",
            "                                                                    ]                             \n",
            "                                                                                                  \n",
            "==================================================================================================\n",
            "Total params: 261178065 (996.32 MB)\n",
            "Trainable params: 23568720 (89.91 MB)\n",
            "Non-trainable params: 237609345 (906.41 MB)\n",
            "__________________________________________________________________________________________________\n",
            "None\n"
          ]
        }
      ]
    },
    {
      "cell_type": "code",
      "source": [
        "epochs = 8\n",
        "optimizer=tf.keras.optimizers.AdamW(learning_rate=0.0002)\n",
        "dataset = tf.data.Dataset.from_tensor_slices((imgs, positives, negatives)).shuffle(buffer_size=256).batch(64)\n",
        "for epoch in range(epochs):\n",
        "    print(f\"\\nStart of epoch {epoch}\")\n",
        "    # start_time = time.time()\n",
        "\n",
        "    for step, (imgs_batch, positives_batch, negatives_batch) in enumerate(dataset):\n",
        "        with tf.GradientTape() as tape:\n",
        "            output = MODEL([imgs_batch, positives_batch, negatives_batch], training=True)\n",
        "            # print(f\"output shape - {output.shape}\")\n",
        "            loss = triplet_loss(output)\n",
        "        grads = tape.gradient(loss, MODEL.trainable_weights)\n",
        "        optimizer.apply_gradients(zip(grads, MODEL.trainable_weights))\n",
        "\n",
        "        print(f\"Training loss (for 1 batch) at step {step}: {float(loss):.4f}\")"
      ],
      "metadata": {
        "id": "-w9gdtaRfe-_",
        "colab": {
          "base_uri": "https://localhost:8080/"
        },
        "outputId": "a148dd91-f5ae-48e1-814f-b8f6bfa68e73"
      },
      "execution_count": null,
      "outputs": [
        {
          "output_type": "stream",
          "name": "stdout",
          "text": [
            "\n",
            "Start of epoch 0\n",
            "Training loss (for 1 batch) at step 0: 0.4998\n",
            "Training loss (for 1 batch) at step 1: 0.4998\n",
            "Training loss (for 1 batch) at step 2: 0.4996\n",
            "Training loss (for 1 batch) at step 3: 0.4996\n",
            "Training loss (for 1 batch) at step 4: 0.4995\n",
            "Training loss (for 1 batch) at step 5: 0.4995\n",
            "Training loss (for 1 batch) at step 6: 0.4998\n",
            "Training loss (for 1 batch) at step 7: 0.4997\n",
            "Training loss (for 1 batch) at step 8: 0.4996\n",
            "Training loss (for 1 batch) at step 9: 0.4995\n",
            "Training loss (for 1 batch) at step 10: 0.4998\n",
            "Training loss (for 1 batch) at step 11: 0.4996\n",
            "Training loss (for 1 batch) at step 12: 0.4992\n",
            "Training loss (for 1 batch) at step 13: 0.4992\n",
            "Training loss (for 1 batch) at step 14: 0.4989\n",
            "Training loss (for 1 batch) at step 15: 0.4998\n",
            "Training loss (for 1 batch) at step 16: 0.4985\n",
            "Training loss (for 1 batch) at step 17: 0.4996\n",
            "Training loss (for 1 batch) at step 18: 0.4996\n",
            "Training loss (for 1 batch) at step 19: 0.4992\n",
            "Training loss (for 1 batch) at step 20: 0.4991\n",
            "Training loss (for 1 batch) at step 21: 0.4995\n",
            "Training loss (for 1 batch) at step 22: 0.4995\n",
            "Training loss (for 1 batch) at step 23: 0.4991\n",
            "Training loss (for 1 batch) at step 24: 0.4993\n",
            "Training loss (for 1 batch) at step 25: 0.4987\n",
            "Training loss (for 1 batch) at step 26: 0.4988\n",
            "Training loss (for 1 batch) at step 27: 0.4984\n",
            "Training loss (for 1 batch) at step 28: 0.4980\n",
            "Training loss (for 1 batch) at step 29: 0.4991\n",
            "Training loss (for 1 batch) at step 30: 0.4984\n",
            "Training loss (for 1 batch) at step 31: 0.4987\n",
            "Training loss (for 1 batch) at step 32: 0.4986\n",
            "Training loss (for 1 batch) at step 33: 0.4972\n",
            "Training loss (for 1 batch) at step 34: 0.4979\n",
            "Training loss (for 1 batch) at step 35: 0.4991\n",
            "Training loss (for 1 batch) at step 36: 0.4975\n",
            "Training loss (for 1 batch) at step 37: 0.4986\n",
            "Training loss (for 1 batch) at step 38: 0.4971\n",
            "Training loss (for 1 batch) at step 39: 0.4984\n",
            "Training loss (for 1 batch) at step 40: 0.4963\n",
            "Training loss (for 1 batch) at step 41: 0.4974\n",
            "Training loss (for 1 batch) at step 42: 0.4928\n",
            "\n",
            "Start of epoch 1\n",
            "Training loss (for 1 batch) at step 0: 0.4939\n",
            "Training loss (for 1 batch) at step 1: 0.4960\n",
            "Training loss (for 1 batch) at step 2: 0.4932\n",
            "Training loss (for 1 batch) at step 3: 0.4949\n",
            "Training loss (for 1 batch) at step 4: 0.4903\n",
            "Training loss (for 1 batch) at step 5: 0.4928\n",
            "Training loss (for 1 batch) at step 6: 0.4906\n",
            "Training loss (for 1 batch) at step 7: 0.4896\n",
            "Training loss (for 1 batch) at step 8: 0.4899\n",
            "Training loss (for 1 batch) at step 9: 0.4863\n",
            "Training loss (for 1 batch) at step 10: 0.4948\n",
            "Training loss (for 1 batch) at step 11: 0.4947\n",
            "Training loss (for 1 batch) at step 12: 0.4934\n",
            "Training loss (for 1 batch) at step 13: 0.4919\n",
            "Training loss (for 1 batch) at step 14: 0.4915\n",
            "Training loss (for 1 batch) at step 15: 0.4928\n",
            "Training loss (for 1 batch) at step 16: 0.4913\n",
            "Training loss (for 1 batch) at step 17: 0.4899\n",
            "Training loss (for 1 batch) at step 18: 0.4915\n",
            "Training loss (for 1 batch) at step 19: 0.4897\n",
            "Training loss (for 1 batch) at step 20: 0.4897\n",
            "Training loss (for 1 batch) at step 21: 0.4874\n",
            "Training loss (for 1 batch) at step 22: 0.4893\n",
            "Training loss (for 1 batch) at step 23: 0.4876\n",
            "Training loss (for 1 batch) at step 24: 0.4908\n",
            "Training loss (for 1 batch) at step 25: 0.4848\n",
            "Training loss (for 1 batch) at step 26: 0.4917\n",
            "Training loss (for 1 batch) at step 27: 0.4861\n",
            "Training loss (for 1 batch) at step 28: 0.4888\n",
            "Training loss (for 1 batch) at step 29: 0.4840\n",
            "Training loss (for 1 batch) at step 30: 0.4888\n",
            "Training loss (for 1 batch) at step 31: 0.4896\n",
            "Training loss (for 1 batch) at step 32: 0.4903\n",
            "Training loss (for 1 batch) at step 33: 0.4838\n",
            "Training loss (for 1 batch) at step 34: 0.4844\n",
            "Training loss (for 1 batch) at step 35: 0.4915\n",
            "Training loss (for 1 batch) at step 36: 0.4878\n",
            "Training loss (for 1 batch) at step 37: 0.4877\n",
            "Training loss (for 1 batch) at step 38: 0.4908\n",
            "Training loss (for 1 batch) at step 39: 0.4872\n",
            "Training loss (for 1 batch) at step 40: 0.4913\n",
            "Training loss (for 1 batch) at step 41: 0.4867\n",
            "Training loss (for 1 batch) at step 42: 0.4710\n",
            "\n",
            "Start of epoch 2\n",
            "Training loss (for 1 batch) at step 0: 0.4921\n",
            "Training loss (for 1 batch) at step 1: 0.4862\n",
            "Training loss (for 1 batch) at step 2: 0.4871\n",
            "Training loss (for 1 batch) at step 3: 0.4864\n",
            "Training loss (for 1 batch) at step 4: 0.4848\n",
            "Training loss (for 1 batch) at step 5: 0.4806\n",
            "Training loss (for 1 batch) at step 6: 0.4887\n",
            "Training loss (for 1 batch) at step 7: 0.4836\n",
            "Training loss (for 1 batch) at step 8: 0.4836\n",
            "Training loss (for 1 batch) at step 9: 0.4876\n",
            "Training loss (for 1 batch) at step 10: 0.4919\n",
            "Training loss (for 1 batch) at step 11: 0.4870\n",
            "Training loss (for 1 batch) at step 12: 0.4790\n",
            "Training loss (for 1 batch) at step 13: 0.4908\n",
            "Training loss (for 1 batch) at step 14: 0.4896\n",
            "Training loss (for 1 batch) at step 15: 0.4889\n",
            "Training loss (for 1 batch) at step 16: 0.4857\n",
            "Training loss (for 1 batch) at step 17: 0.4837\n",
            "Training loss (for 1 batch) at step 18: 0.4842\n",
            "Training loss (for 1 batch) at step 19: 0.4850\n",
            "Training loss (for 1 batch) at step 20: 0.4875\n",
            "Training loss (for 1 batch) at step 21: 0.4830\n",
            "Training loss (for 1 batch) at step 22: 0.4838\n",
            "Training loss (for 1 batch) at step 23: 0.4850\n",
            "Training loss (for 1 batch) at step 24: 0.4864\n",
            "Training loss (for 1 batch) at step 25: 0.4883\n",
            "Training loss (for 1 batch) at step 26: 0.4830\n",
            "Training loss (for 1 batch) at step 27: 0.4802\n",
            "Training loss (for 1 batch) at step 28: 0.4811\n",
            "Training loss (for 1 batch) at step 29: 0.4834\n",
            "Training loss (for 1 batch) at step 30: 0.4853\n",
            "Training loss (for 1 batch) at step 31: 0.4834\n",
            "Training loss (for 1 batch) at step 32: 0.4823\n",
            "Training loss (for 1 batch) at step 33: 0.4862\n",
            "Training loss (for 1 batch) at step 34: 0.4841\n",
            "Training loss (for 1 batch) at step 35: 0.4808\n",
            "Training loss (for 1 batch) at step 36: 0.4856\n",
            "Training loss (for 1 batch) at step 37: 0.4898\n",
            "Training loss (for 1 batch) at step 38: 0.4857\n",
            "Training loss (for 1 batch) at step 39: 0.4860\n",
            "Training loss (for 1 batch) at step 40: 0.4830\n",
            "Training loss (for 1 batch) at step 41: 0.4837\n",
            "Training loss (for 1 batch) at step 42: 0.4671\n",
            "\n",
            "Start of epoch 3\n",
            "Training loss (for 1 batch) at step 0: 0.4824\n",
            "Training loss (for 1 batch) at step 1: 0.4819\n",
            "Training loss (for 1 batch) at step 2: 0.4808\n",
            "Training loss (for 1 batch) at step 3: 0.4861\n",
            "Training loss (for 1 batch) at step 4: 0.4785\n",
            "Training loss (for 1 batch) at step 5: 0.4856\n",
            "Training loss (for 1 batch) at step 6: 0.4820\n",
            "Training loss (for 1 batch) at step 7: 0.4835\n",
            "Training loss (for 1 batch) at step 8: 0.4795\n",
            "Training loss (for 1 batch) at step 9: 0.4869\n",
            "Training loss (for 1 batch) at step 10: 0.4837\n",
            "Training loss (for 1 batch) at step 11: 0.4811\n",
            "Training loss (for 1 batch) at step 12: 0.4796\n",
            "Training loss (for 1 batch) at step 13: 0.4838\n",
            "Training loss (for 1 batch) at step 14: 0.4859\n",
            "Training loss (for 1 batch) at step 15: 0.4870\n",
            "Training loss (for 1 batch) at step 16: 0.4826\n",
            "Training loss (for 1 batch) at step 17: 0.4820\n",
            "Training loss (for 1 batch) at step 18: 0.4782\n",
            "Training loss (for 1 batch) at step 19: 0.4837\n",
            "Training loss (for 1 batch) at step 20: 0.4834\n",
            "Training loss (for 1 batch) at step 21: 0.4862\n",
            "Training loss (for 1 batch) at step 22: 0.4783\n",
            "Training loss (for 1 batch) at step 23: 0.4790\n",
            "Training loss (for 1 batch) at step 24: 0.4782\n",
            "Training loss (for 1 batch) at step 25: 0.4824\n",
            "Training loss (for 1 batch) at step 26: 0.4783\n",
            "Training loss (for 1 batch) at step 27: 0.4775\n",
            "Training loss (for 1 batch) at step 28: 0.4779\n",
            "Training loss (for 1 batch) at step 29: 0.4805\n",
            "Training loss (for 1 batch) at step 30: 0.4789\n",
            "Training loss (for 1 batch) at step 31: 0.4820\n",
            "Training loss (for 1 batch) at step 32: 0.4775\n",
            "Training loss (for 1 batch) at step 33: 0.4792\n",
            "Training loss (for 1 batch) at step 34: 0.4782\n",
            "Training loss (for 1 batch) at step 35: 0.4871\n",
            "Training loss (for 1 batch) at step 36: 0.4795\n",
            "Training loss (for 1 batch) at step 37: 0.4836\n",
            "Training loss (for 1 batch) at step 38: 0.4825\n",
            "Training loss (for 1 batch) at step 39: 0.4812\n",
            "Training loss (for 1 batch) at step 40: 0.4867\n",
            "Training loss (for 1 batch) at step 41: 0.4881\n",
            "Training loss (for 1 batch) at step 42: 0.4624\n",
            "\n",
            "Start of epoch 4\n",
            "Training loss (for 1 batch) at step 0: 0.4811\n",
            "Training loss (for 1 batch) at step 1: 0.4826\n",
            "Training loss (for 1 batch) at step 2: 0.4785\n",
            "Training loss (for 1 batch) at step 3: 0.4830\n",
            "Training loss (for 1 batch) at step 4: 0.4776\n",
            "Training loss (for 1 batch) at step 5: 0.4862\n",
            "Training loss (for 1 batch) at step 6: 0.4791\n",
            "Training loss (for 1 batch) at step 7: 0.4794\n",
            "Training loss (for 1 batch) at step 8: 0.4824\n",
            "Training loss (for 1 batch) at step 9: 0.4790\n",
            "Training loss (for 1 batch) at step 10: 0.4819\n",
            "Training loss (for 1 batch) at step 11: 0.4841\n",
            "Training loss (for 1 batch) at step 12: 0.4799\n",
            "Training loss (for 1 batch) at step 13: 0.4851\n",
            "Training loss (for 1 batch) at step 14: 0.4828\n",
            "Training loss (for 1 batch) at step 15: 0.4790\n",
            "Training loss (for 1 batch) at step 16: 0.4766\n",
            "Training loss (for 1 batch) at step 17: 0.4826\n",
            "Training loss (for 1 batch) at step 18: 0.4790\n",
            "Training loss (for 1 batch) at step 19: 0.4797\n",
            "Training loss (for 1 batch) at step 20: 0.4799\n",
            "Training loss (for 1 batch) at step 21: 0.4770\n",
            "Training loss (for 1 batch) at step 22: 0.4838\n",
            "Training loss (for 1 batch) at step 23: 0.4775\n",
            "Training loss (for 1 batch) at step 24: 0.4827\n",
            "Training loss (for 1 batch) at step 25: 0.4770\n",
            "Training loss (for 1 batch) at step 26: 0.4800\n",
            "Training loss (for 1 batch) at step 27: 0.4696\n",
            "Training loss (for 1 batch) at step 28: 0.4791\n",
            "Training loss (for 1 batch) at step 29: 0.4817\n",
            "Training loss (for 1 batch) at step 30: 0.4802\n",
            "Training loss (for 1 batch) at step 31: 0.4780\n",
            "Training loss (for 1 batch) at step 32: 0.4760\n",
            "Training loss (for 1 batch) at step 33: 0.4752\n",
            "Training loss (for 1 batch) at step 34: 0.4796\n",
            "Training loss (for 1 batch) at step 35: 0.4784\n",
            "Training loss (for 1 batch) at step 36: 0.4782\n",
            "Training loss (for 1 batch) at step 37: 0.4830\n",
            "Training loss (for 1 batch) at step 38: 0.4796\n",
            "Training loss (for 1 batch) at step 39: 0.4799\n",
            "Training loss (for 1 batch) at step 40: 0.4837\n",
            "Training loss (for 1 batch) at step 41: 0.4828\n",
            "Training loss (for 1 batch) at step 42: 0.4421\n",
            "\n",
            "Start of epoch 5\n",
            "Training loss (for 1 batch) at step 0: 0.4801\n",
            "Training loss (for 1 batch) at step 1: 0.4802\n",
            "Training loss (for 1 batch) at step 2: 0.4792\n",
            "Training loss (for 1 batch) at step 3: 0.4773\n",
            "Training loss (for 1 batch) at step 4: 0.4788\n",
            "Training loss (for 1 batch) at step 5: 0.4827\n",
            "Training loss (for 1 batch) at step 6: 0.4798\n",
            "Training loss (for 1 batch) at step 7: 0.4765\n",
            "Training loss (for 1 batch) at step 8: 0.4826\n",
            "Training loss (for 1 batch) at step 9: 0.4790\n",
            "Training loss (for 1 batch) at step 10: 0.4772\n",
            "Training loss (for 1 batch) at step 11: 0.4741\n",
            "Training loss (for 1 batch) at step 12: 0.4817\n",
            "Training loss (for 1 batch) at step 13: 0.4821\n",
            "Training loss (for 1 batch) at step 14: 0.4747\n",
            "Training loss (for 1 batch) at step 15: 0.4830\n",
            "Training loss (for 1 batch) at step 16: 0.4763\n",
            "Training loss (for 1 batch) at step 17: 0.4805\n",
            "Training loss (for 1 batch) at step 18: 0.4756\n",
            "Training loss (for 1 batch) at step 19: 0.4817\n",
            "Training loss (for 1 batch) at step 20: 0.4765\n",
            "Training loss (for 1 batch) at step 21: 0.4750\n",
            "Training loss (for 1 batch) at step 22: 0.4766\n",
            "Training loss (for 1 batch) at step 23: 0.4752\n",
            "Training loss (for 1 batch) at step 24: 0.4766\n",
            "Training loss (for 1 batch) at step 25: 0.4745\n",
            "Training loss (for 1 batch) at step 26: 0.4747\n",
            "Training loss (for 1 batch) at step 27: 0.4723\n",
            "Training loss (for 1 batch) at step 28: 0.4784\n",
            "Training loss (for 1 batch) at step 29: 0.4700\n",
            "Training loss (for 1 batch) at step 30: 0.4783\n",
            "Training loss (for 1 batch) at step 31: 0.4831\n",
            "Training loss (for 1 batch) at step 32: 0.4806\n",
            "Training loss (for 1 batch) at step 33: 0.4731\n",
            "Training loss (for 1 batch) at step 34: 0.4736\n",
            "Training loss (for 1 batch) at step 35: 0.4838\n",
            "Training loss (for 1 batch) at step 36: 0.4762\n",
            "Training loss (for 1 batch) at step 37: 0.4762\n",
            "Training loss (for 1 batch) at step 38: 0.4828\n",
            "Training loss (for 1 batch) at step 39: 0.4820\n",
            "Training loss (for 1 batch) at step 40: 0.4825\n",
            "Training loss (for 1 batch) at step 41: 0.4755\n",
            "Training loss (for 1 batch) at step 42: 0.4502\n",
            "\n",
            "Start of epoch 6\n",
            "Training loss (for 1 batch) at step 0: 0.4754\n",
            "Training loss (for 1 batch) at step 1: 0.4799\n",
            "Training loss (for 1 batch) at step 2: 0.4782\n",
            "Training loss (for 1 batch) at step 3: 0.4693\n",
            "Training loss (for 1 batch) at step 4: 0.4782\n",
            "Training loss (for 1 batch) at step 5: 0.4816\n",
            "Training loss (for 1 batch) at step 6: 0.4720\n",
            "Training loss (for 1 batch) at step 7: 0.4820\n",
            "Training loss (for 1 batch) at step 8: 0.4798\n",
            "Training loss (for 1 batch) at step 9: 0.4811\n",
            "Training loss (for 1 batch) at step 10: 0.4759\n",
            "Training loss (for 1 batch) at step 11: 0.4819\n",
            "Training loss (for 1 batch) at step 12: 0.4751\n",
            "Training loss (for 1 batch) at step 13: 0.4784\n",
            "Training loss (for 1 batch) at step 14: 0.4800\n",
            "Training loss (for 1 batch) at step 15: 0.4786\n",
            "Training loss (for 1 batch) at step 16: 0.4802\n",
            "Training loss (for 1 batch) at step 17: 0.4720\n",
            "Training loss (for 1 batch) at step 18: 0.4697\n",
            "Training loss (for 1 batch) at step 19: 0.4777\n",
            "Training loss (for 1 batch) at step 20: 0.4841\n",
            "Training loss (for 1 batch) at step 21: 0.4771\n",
            "Training loss (for 1 batch) at step 22: 0.4779\n",
            "Training loss (for 1 batch) at step 23: 0.4674\n",
            "Training loss (for 1 batch) at step 24: 0.4763\n",
            "Training loss (for 1 batch) at step 25: 0.4781\n",
            "Training loss (for 1 batch) at step 26: 0.4757\n",
            "Training loss (for 1 batch) at step 27: 0.4755\n",
            "Training loss (for 1 batch) at step 28: 0.4747\n",
            "Training loss (for 1 batch) at step 29: 0.4754\n",
            "Training loss (for 1 batch) at step 30: 0.4719\n",
            "Training loss (for 1 batch) at step 31: 0.4797\n",
            "Training loss (for 1 batch) at step 32: 0.4736\n",
            "Training loss (for 1 batch) at step 33: 0.4707\n",
            "Training loss (for 1 batch) at step 34: 0.4749\n",
            "Training loss (for 1 batch) at step 35: 0.4689\n",
            "Training loss (for 1 batch) at step 36: 0.4800\n",
            "Training loss (for 1 batch) at step 37: 0.4752\n",
            "Training loss (for 1 batch) at step 38: 0.4767\n",
            "Training loss (for 1 batch) at step 39: 0.4771\n",
            "Training loss (for 1 batch) at step 40: 0.4799\n",
            "Training loss (for 1 batch) at step 41: 0.4821\n",
            "Training loss (for 1 batch) at step 42: 0.4453\n",
            "\n",
            "Start of epoch 7\n",
            "Training loss (for 1 batch) at step 0: 0.4731\n",
            "Training loss (for 1 batch) at step 1: 0.4707\n",
            "Training loss (for 1 batch) at step 2: 0.4750\n",
            "Training loss (for 1 batch) at step 3: 0.4817\n",
            "Training loss (for 1 batch) at step 4: 0.4761\n",
            "Training loss (for 1 batch) at step 5: 0.4774\n",
            "Training loss (for 1 batch) at step 6: 0.4726\n",
            "Training loss (for 1 batch) at step 7: 0.4727\n",
            "Training loss (for 1 batch) at step 8: 0.4793\n",
            "Training loss (for 1 batch) at step 9: 0.4737\n",
            "Training loss (for 1 batch) at step 10: 0.4817\n",
            "Training loss (for 1 batch) at step 11: 0.4798\n",
            "Training loss (for 1 batch) at step 12: 0.4763\n",
            "Training loss (for 1 batch) at step 13: 0.4800\n",
            "Training loss (for 1 batch) at step 14: 0.4768\n",
            "Training loss (for 1 batch) at step 15: 0.4740\n",
            "Training loss (for 1 batch) at step 16: 0.4755\n",
            "Training loss (for 1 batch) at step 17: 0.4780\n",
            "Training loss (for 1 batch) at step 18: 0.4761\n",
            "Training loss (for 1 batch) at step 19: 0.4784\n",
            "Training loss (for 1 batch) at step 20: 0.4735\n",
            "Training loss (for 1 batch) at step 21: 0.4774\n",
            "Training loss (for 1 batch) at step 22: 0.4753\n",
            "Training loss (for 1 batch) at step 23: 0.4756\n",
            "Training loss (for 1 batch) at step 24: 0.4690\n",
            "Training loss (for 1 batch) at step 25: 0.4775\n",
            "Training loss (for 1 batch) at step 26: 0.4738\n",
            "Training loss (for 1 batch) at step 27: 0.4727\n",
            "Training loss (for 1 batch) at step 28: 0.4787\n",
            "Training loss (for 1 batch) at step 29: 0.4716\n",
            "Training loss (for 1 batch) at step 30: 0.4710\n",
            "Training loss (for 1 batch) at step 31: 0.4782\n",
            "Training loss (for 1 batch) at step 32: 0.4690\n",
            "Training loss (for 1 batch) at step 33: 0.4751\n",
            "Training loss (for 1 batch) at step 34: 0.4772\n",
            "Training loss (for 1 batch) at step 35: 0.4730\n",
            "Training loss (for 1 batch) at step 36: 0.4754\n",
            "Training loss (for 1 batch) at step 37: 0.4735\n",
            "Training loss (for 1 batch) at step 38: 0.4832\n",
            "Training loss (for 1 batch) at step 39: 0.4754\n",
            "Training loss (for 1 batch) at step 40: 0.4768\n",
            "Training loss (for 1 batch) at step 41: 0.4709\n",
            "Training loss (for 1 batch) at step 42: 0.4388\n"
          ]
        }
      ]
    },
    {
      "cell_type": "code",
      "source": [
        "#MODEL.save(\"hindi-6184.keras\")"
      ],
      "metadata": {
        "id": "j7aABdK8-pWc"
      },
      "execution_count": null,
      "outputs": []
    },
    {
      "cell_type": "markdown",
      "source": [
        "# **Evaluation**"
      ],
      "metadata": {
        "id": "q5GhGfqAXAK4"
      }
    },
    {
      "cell_type": "code",
      "source": [
        "eval_images = set(column(test_captions,0))\n",
        "print(len(eval_images))\n",
        "\n",
        "eval_captions = test_captions"
      ],
      "metadata": {
        "colab": {
          "base_uri": "https://localhost:8080/"
        },
        "id": "2eWaYlDIAYxK",
        "outputId": "4c36de77-f2f5-4e92-d0bf-60afd9796cb7"
      },
      "execution_count": null,
      "outputs": [
        {
          "output_type": "stream",
          "name": "stdout",
          "text": [
            "329\n"
          ]
        }
      ]
    },
    {
      "cell_type": "code",
      "source": [
        "retrieval_set = []\n",
        "valid_queries = []\n",
        "valid_images = []\n",
        "\n",
        "# given all the test image file names, set aside those which actually have a corresponding image\n",
        "for i in eval_images:\n",
        "  for img in images:\n",
        "      if img[0] == i:\n",
        "          valid_images.append(img[0]) # list of valid labels\n",
        "          retrieval_set.append(img[1]) # list of images\n",
        "print(len(retrieval_set))\n",
        "\n",
        "# list of those captions which have a corresponding image in valid_images\n",
        "for cap in eval_captions:\n",
        "  if cap[0] in valid_images:\n",
        "    valid_queries.append(cap)\n",
        "\n",
        "retrieval_set = np.array(retrieval_set, dtype='float32')"
      ],
      "metadata": {
        "colab": {
          "base_uri": "https://localhost:8080/"
        },
        "id": "3KaQGiOSPLxV",
        "outputId": "f24461a3-5a34-4f7d-fb07-428842305c85"
      },
      "execution_count": null,
      "outputs": [
        {
          "output_type": "stream",
          "name": "stdout",
          "text": [
            "154\n"
          ]
        }
      ]
    },
    {
      "cell_type": "code",
      "source": [
        "print(len(valid_queries))"
      ],
      "metadata": {
        "id": "8D5t5rR5yWLb"
      },
      "execution_count": null,
      "outputs": []
    },
    {
      "cell_type": "markdown",
      "source": [
        "### **Image Embedding**"
      ],
      "metadata": {
        "id": "1NbkmTkQcY1g"
      }
    },
    {
      "cell_type": "code",
      "source": [
        "image_embeddings = []\n",
        "for img in retrieval_set:\n",
        "  #print(img)\n",
        "  input = img.reshape(-1, 64, 64, 3)\n",
        "  dummy_caps = np.array(['dummy'])\n",
        "  output = MODEL([input, dummy_caps, dummy_caps], training=False)\n",
        "  image_embeddings.append(output[0])"
      ],
      "metadata": {
        "id": "59bv8uxnkSOt"
      },
      "execution_count": null,
      "outputs": []
    },
    {
      "cell_type": "markdown",
      "source": [
        "### **Text Embedding, Top K retrieved Images**"
      ],
      "metadata": {
        "id": "10vFU4vAzxw7"
      }
    },
    {
      "cell_type": "markdown",
      "source": [
        "For all valid test queries"
      ],
      "metadata": {
        "id": "v7Jnd5_B0E1c"
      }
    },
    {
      "cell_type": "code",
      "source": [
        "k = 50\n",
        "total_queries = len(valid_queries)\n",
        "correct_output = 0\n",
        "\n",
        "for q in valid_queries:\n",
        "  label = q[0]\n",
        "  query = np.array([q[1]])\n",
        "  distances = []\n",
        "\n",
        "  # feed the query into the model with any image - we only care about the text embedding generated\n",
        "  output = MODEL([imgs[0].reshape(-1, 64, 64, 3), query, query], training=False)\n",
        "  query_embedding = output[1]\n",
        "\n",
        "  for img_emb in image_embeddings:\n",
        "    dist = np.linalg.norm(img_emb - query_embedding)\n",
        "    distances.append(dist)\n",
        "\n",
        "  sort_index = np.argsort(distances)\n",
        "  top_k = sort_index[:k]\n",
        "\n",
        "  retrieved_images = [valid_images[i] for i in top_k]\n",
        "  correct = label in retrieved_images\n",
        "  if correct:\n",
        "    #print(\"correct\")\n",
        "    correct_output += 1"
      ],
      "metadata": {
        "id": "v0A5zy0Tzcue"
      },
      "execution_count": null,
      "outputs": []
    },
    {
      "cell_type": "code",
      "source": [
        "accuracy = correct_output/total_queries\n",
        "print('This model was successfully able to retrieve a relevant image', accuracy*100, '% of the time')"
      ],
      "metadata": {
        "id": "q8fpHmP_1UJ_",
        "colab": {
          "base_uri": "https://localhost:8080/"
        },
        "outputId": "cf647d85-aa87-4364-f2cb-d3fafd9e44cd"
      },
      "execution_count": null,
      "outputs": [
        {
          "output_type": "stream",
          "name": "stdout",
          "text": [
            "This model was successfully able to retrieve a relevant image 61.33333333333333 % of the time\n"
          ]
        }
      ]
    },
    {
      "cell_type": "markdown",
      "source": [
        "* 20 hidden, num_triplets_per_caption= 3 :\n",
        "\n",
        "1 epoch - 33.02%, 3 - 61.84%\n",
        "* 20 hidden, num_triplets_per_caption= 5 :\n",
        "\n",
        "5 epochs - 57.45 %\n",
        "\n",
        "\n",
        "* 12 hidden, num_triplets_per_caption= 3 :\n",
        "\n",
        "3 epochs - 44.29%\n",
        "\n",
        "* 12 hidden, num_triplets_per_caption= 3, LR = 0.0002 :\n",
        "\n",
        "4 epochs - 66.66% 8 - 61.83%"
      ],
      "metadata": {
        "id": "aU6_-rWgk0W8"
      }
    }
  ]
}